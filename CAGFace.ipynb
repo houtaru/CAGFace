{
  "nbformat": 4,
  "nbformat_minor": 0,
  "metadata": {
    "colab": {
      "name": "CAGFace",
      "provenance": [],
      "toc_visible": true
    },
    "kernelspec": {
      "name": "python3",
      "display_name": "Python 3"
    },
    "accelerator": "GPU"
  },
  "cells": [
    {
      "cell_type": "markdown",
      "metadata": {
        "id": "h0xVa1KBG6bZ",
        "colab_type": "text"
      },
      "source": [
        "# **Connecting to google drive**"
      ]
    },
    {
      "cell_type": "code",
      "metadata": {
        "id": "4pmRjhw1GgvO",
        "colab_type": "code",
        "outputId": "b863a48b-0923-4059-8e3c-1815553ad133",
        "colab": {
          "base_uri": "https://localhost:8080/",
          "height": 122
        }
      },
      "source": [
        "from google.colab import drive\n",
        "drive.mount('/content/drive')"
      ],
      "execution_count": 15,
      "outputs": [
        {
          "output_type": "stream",
          "text": [
            "Go to this URL in a browser: https://accounts.google.com/o/oauth2/auth?client_id=947318989803-6bn6qk8qdgf4n4g3pfee6491hc0brc4i.apps.googleusercontent.com&redirect_uri=urn%3aietf%3awg%3aoauth%3a2.0%3aoob&response_type=code&scope=email%20https%3a%2f%2fwww.googleapis.com%2fauth%2fdocs.test%20https%3a%2f%2fwww.googleapis.com%2fauth%2fdrive%20https%3a%2f%2fwww.googleapis.com%2fauth%2fdrive.photos.readonly%20https%3a%2f%2fwww.googleapis.com%2fauth%2fpeopleapi.readonly\n",
            "\n",
            "Enter your authorization code:\n",
            "··········\n",
            "Mounted at /content/drive\n"
          ],
          "name": "stdout"
        }
      ]
    },
    {
      "cell_type": "markdown",
      "metadata": {
        "id": "NOyglSc_YyRe",
        "colab_type": "text"
      },
      "source": [
        "# **Get source code from Github**"
      ]
    },
    {
      "cell_type": "code",
      "metadata": {
        "id": "vGIVtBJYaCH7",
        "colab_type": "code",
        "colab": {}
      },
      "source": [
        "# Config user infor\n",
        "!git config --global user.email \"caothesan@gmail.com\"\n",
        "!git config --global user.name \"The San Cao\""
      ],
      "execution_count": 0,
      "outputs": []
    },
    {
      "cell_type": "code",
      "metadata": {
        "id": "yBSSTMuYwZ3B",
        "colab_type": "code",
        "outputId": "986b31e4-839a-4163-dd66-7ba8b8a434c8",
        "colab": {
          "base_uri": "https://localhost:8080/",
          "height": 51
        }
      },
      "source": [
        "# Clone source code\n",
        "import os\n",
        "if not os.path.exists('/content/drive/My\\ Drive/CAGFace'):\n",
        "  !git clone https://github.com/houtaru/CAGFace.git '/content/drive/My Drive/CAGFace'\n",
        "\n",
        "!ln -s '/content/drive/My Drive/CAGFace' '/content/CAGFace'"
      ],
      "execution_count": 29,
      "outputs": [
        {
          "output_type": "stream",
          "text": [
            "fatal: destination path '/content/drive/My Drive/CAGFace' already exists and is not an empty directory.\n",
            "ln: failed to create symbolic link '/content/CAGFace/CAGFace': Operation not supported\n"
          ],
          "name": "stdout"
        }
      ]
    },
    {
      "cell_type": "code",
      "metadata": {
        "id": "ejiuaUt5Y5c2",
        "colab_type": "code",
        "colab": {
          "base_uri": "https://localhost:8080/",
          "height": 85
        },
        "outputId": "5064c264-4161-42c2-aedc-0c3bd0d79106"
      },
      "source": [
        "# Update source code\n",
        "!cd CAGFace && git reset --hard HEAD && git pull -f origin master"
      ],
      "execution_count": 41,
      "outputs": [
        {
          "output_type": "stream",
          "text": [
            "HEAD is now at 2802f05 ...\n",
            "From https://github.com/houtaru/CAGFace\n",
            " * branch            master     -> FETCH_HEAD\n",
            "Already up to date.\n"
          ],
          "name": "stdout"
        }
      ]
    },
    {
      "cell_type": "code",
      "metadata": {
        "id": "-n5RQm2vZs81",
        "colab_type": "code",
        "colab": {
          "base_uri": "https://localhost:8080/",
          "height": 34
        },
        "outputId": "457454c4-2975-45ca-cd5b-fad44ece0059"
      },
      "source": [
        "!cd CAGFace && git commit -am \"...\""
      ],
      "execution_count": 40,
      "outputs": [
        {
          "output_type": "stream",
          "text": [
            "[master 2802f05] ...\n"
          ],
          "name": "stdout"
        }
      ]
    },
    {
      "cell_type": "markdown",
      "metadata": {
        "id": "mdYQkXWAappS",
        "colab_type": "text"
      },
      "source": [
        "# **Processing**"
      ]
    },
    {
      "cell_type": "code",
      "metadata": {
        "id": "liUN-oxa_Ubv",
        "colab_type": "code",
        "outputId": "fdf4e964-7456-4c4e-e714-6dfa466eb1f7",
        "colab": {
          "base_uri": "https://localhost:8080/",
          "height": 423
        }
      },
      "source": [
        "!cd CAGFace && chmod +x run.sh &&./run.sh"
      ],
      "execution_count": 0,
      "outputs": [
        {
          "output_type": "stream",
          "text": [
            "Installing requirements...\n",
            "Requirement already satisfied: torch==1.0.0 from https://files.pythonhosted.org/packages/7e/60/66415660aa46b23b5e1b72bc762e816736ce8d7260213e22365af51e8f9c/torch-1.0.0-cp36-cp36m-manylinux1_x86_64.whl in /usr/local/lib/python3.6/dist-packages (1.0.0)\n",
            "Requirement already satisfied: torchvision==0.2.1 from https://files.pythonhosted.org/packages/ca/0d/f00b2885711e08bd71242ebe7b96561e6f6d01fdb4b9dcf4d37e2e13c5e1/torchvision-0.2.1-py2.py3-none-any.whl in /usr/local/lib/python3.6/dist-packages (0.2.1)\n",
            "Requirement already satisfied: six in /usr/local/lib/python3.6/dist-packages (from torchvision==0.2.1) (1.12.0)\n",
            "Requirement already satisfied: pillow>=4.1.1 in /usr/local/lib/python3.6/dist-packages (from torchvision==0.2.1) (6.2.2)\n",
            "Requirement already satisfied: torch in /usr/local/lib/python3.6/dist-packages (from torchvision==0.2.1) (1.0.0)\n",
            "Requirement already satisfied: numpy in /usr/local/lib/python3.6/dist-packages (from torchvision==0.2.1) (1.17.5)\n",
            "Requirement already satisfied: tqdm in /usr/local/lib/python3.6/dist-packages (from -r requirements.txt (line 1)) (4.28.1)\n",
            "Requirement already satisfied: gdown in /usr/local/lib/python3.6/dist-packages (from -r requirements.txt (line 2)) (3.6.4)\n",
            "Requirement already satisfied: requests in /usr/local/lib/python3.6/dist-packages (from gdown->-r requirements.txt (line 2)) (2.21.0)\n",
            "Requirement already satisfied: six in /usr/local/lib/python3.6/dist-packages (from gdown->-r requirements.txt (line 2)) (1.12.0)\n",
            "Requirement already satisfied: chardet<3.1.0,>=3.0.2 in /usr/local/lib/python3.6/dist-packages (from requests->gdown->-r requirements.txt (line 2)) (3.0.4)\n",
            "Requirement already satisfied: urllib3<1.25,>=1.21.1 in /usr/local/lib/python3.6/dist-packages (from requests->gdown->-r requirements.txt (line 2)) (1.24.3)\n",
            "Requirement already satisfied: certifi>=2017.4.17 in /usr/local/lib/python3.6/dist-packages (from requests->gdown->-r requirements.txt (line 2)) (2019.11.28)\n",
            "Requirement already satisfied: idna<2.9,>=2.5 in /usr/local/lib/python3.6/dist-packages (from requests->gdown->-r requirements.txt (line 2)) (2.8)\n",
            "Downloading dataset...\n",
            "Downloading...\n",
            "From: https://drive.google.com/uc?id=1-eENcWVi0gN5o6mrzT09WBv8FX66jMLV\n",
            "To: /content/drive/My Drive/CAGFace/celeba.zip\n",
            "1.44GB [00:17, 82.5MB/s]\n",
            "Extracting...\n"
          ],
          "name": "stdout"
        }
      ]
    },
    {
      "cell_type": "code",
      "metadata": {
        "id": "0AkJAWbMSEkW",
        "colab_type": "code",
        "colab": {}
      },
      "source": [
        "!cd CAGFace && python train.py"
      ],
      "execution_count": 0,
      "outputs": []
    }
  ]
}